{
 "cells": [
  {
   "cell_type": "markdown",
   "id": "6ade9783-c515-49c9-95bb-ecdc364d1969",
   "metadata": {},
   "source": [
    "Q1. What is Web Scraping? Why is it Used? Give three areas where Web Scraping is used to get data.\n",
    "\n",
    "ANS :\n",
    "\n",
    "Web scraping, also known as web data extraction, is the process of automatically collecting and extracting data from websites. \n",
    "\n",
    "Web scraping is used for a variety of purposes, such as:\n",
    "\n",
    "1. Market research and competitive analysis: Web scraping is often used to collect data on competitors, such as product prices, reviews, and customer feedback. \n",
    "This data can be used to inform business strategy and make informed decisions.\n",
    "\n",
    "2. Lead generation: Web scraping can be used to collect contact information from websites, such as email addresses or phone numbers, to generate leads for marketing or sales purposes.\n",
    "\n",
    "Three specific areas where web scraping is commonly used:\n",
    "\n",
    "1. E-commerce: Web scraping is often used in e-commerce to gather data on product prices, reviews, and availability from competitors. \n",
    "2. Social media: Web scraping is often used in social media to collect data on user behavior, sentiment analysis, and user demographics. \n",
    "3. Job boards: Web scraping is often used in job boards to collect data on job postings and applicant information."
   ]
  },
  {
   "cell_type": "markdown",
   "id": "aa4b8120-15c9-4f49-b1e0-50bde9e65c9c",
   "metadata": {},
   "source": [
    "Q2. What are the different methods used for Web Scraping?\n",
    "\n",
    "ANS : \n",
    "\n",
    "There are several methods used for web scraping, including:\n",
    "\n",
    "1. Parsing HTML: This is the most common method of web scraping, where web scrapers use HTML parsing libraries to extract data from websites. \n",
    "\n",
    "2. Web APIs: Many websites offer Web APIs (Application Programming Interfaces) that allow users to access their data programmatically. \n",
    "Web scrapers can use these APIs to extract data in a structured format, without having to parse HTML or use other scraping techniques.\n",
    "\n",
    "3. Scraping specific file formats: Some websites publish data in specific file formats, such as CSV, JSON, or XML. \n",
    "Web scrapers can be programmed to directly download these files and extract the relevant data.\n"
   ]
  },
  {
   "cell_type": "markdown",
   "id": "047000ad-9080-4171-bfe5-3acd3db8a9fc",
   "metadata": {},
   "source": [
    "Q3. What is Beautiful Soup? Why is it used?\n",
    "\n",
    "ANS : \n",
    "\n",
    "Beautiful Soup is a popular Python library used for web scraping. It is designed to make it easy to parse and extract data from HTML and XML documents.\n",
    "\n",
    "Beautiful Soup is used for a variety of reasons, including: Easy parsing, Robust handling of bad markup, Powerful searching, Compatibility and Integration with other tools."
   ]
  },
  {
   "cell_type": "markdown",
   "id": "9ede6e45-e82a-4737-88c5-926007776371",
   "metadata": {},
   "source": [
    "Q4. Why is flask used in this Web Scraping project?\n",
    "\n",
    "ANS : \n",
    "\n",
    "Flask is a popular web framework for Python that is often used for building web applications and APIs. \n",
    "Flask is commonly used in web scraping projects because it provides a lightweight and flexible way to build web applications that can interface with web scrapers.\n",
    "\n",
    "Here are a few reasons why Flask is often used in web scraping projects:Lightweight and flexible, Easy to use, Supports HTTP methods and Supports templates."
   ]
  },
  {
   "cell_type": "markdown",
   "id": "bf752872-b64e-46c2-8c25-a5f5645f7f78",
   "metadata": {},
   "source": [
    "Q5. Write the names of AWS services used in this project. Also, explain the use of each service.\n",
    "\n",
    "ANS :\n",
    "\n",
    "AWS CodePipeline and AWS Elastic Beanstalk:\n",
    "\n",
    "AWS CodePipeline and AWS Elastic Beanstalk are two powerful services offered by Amazon Web Services (AWS) that are often used together to build, deploy, and manage web applications in the cloud.\n",
    "\n",
    "AWS CodePipeline is a fully managed continuous delivery service that automates the building, testing, and deployment of code changes to any environment.\n",
    "\n",
    "AWS Elastic Beanstalk is a fully managed platform-as-a-service (PaaS) that allows developers to easily deploy and manage web applications in the cloud."
   ]
  },
  {
   "cell_type": "code",
   "execution_count": null,
   "id": "9fb13274-3f5f-4b4c-b600-01fbd97ac0c7",
   "metadata": {},
   "outputs": [],
   "source": []
  }
 ],
 "metadata": {
  "kernelspec": {
   "display_name": "Python 3 (ipykernel)",
   "language": "python",
   "name": "python3"
  },
  "language_info": {
   "codemirror_mode": {
    "name": "ipython",
    "version": 3
   },
   "file_extension": ".py",
   "mimetype": "text/x-python",
   "name": "python",
   "nbconvert_exporter": "python",
   "pygments_lexer": "ipython3",
   "version": "3.10.8"
  }
 },
 "nbformat": 4,
 "nbformat_minor": 5
}
